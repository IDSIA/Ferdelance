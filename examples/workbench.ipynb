{
 "cells": [
  {
   "cell_type": "code",
   "execution_count": 1,
   "metadata": {},
   "outputs": [],
   "source": [
    "from typing import List\n",
    "from ferdelance.workbench.context import Context\n",
    "from ferdelance.shared.schemas import WorkbenchProjectList\n",
    "\n",
    "ctx: Context = Context(\"http://localhost:1456\")\n",
    "tokens: List[str] = [\"t1\", \"t2\"]\n",
    "projects_list: WorkbenchProjectList = ctx.list_projects(tokens=tokens)"
   ]
  },
  {
   "cell_type": "code",
   "execution_count": 2,
   "metadata": {},
   "outputs": [
    {
     "data": {
      "text/plain": [
       "[]"
      ]
     },
     "execution_count": 2,
     "metadata": {},
     "output_type": "execute_result"
    }
   ],
   "source": [
    "projects_list.projects"
   ]
  },
  {
   "cell_type": "code",
   "execution_count": null,
   "metadata": {},
   "outputs": [],
   "source": []
  }
 ],
 "metadata": {
  "kernelspec": {
   "display_name": "ferdelance",
   "language": "python",
   "name": "python3"
  },
  "language_info": {
   "codemirror_mode": {
    "name": "ipython",
    "version": 3
   },
   "file_extension": ".py",
   "mimetype": "text/x-python",
   "name": "python",
   "nbconvert_exporter": "python",
   "pygments_lexer": "ipython3",
   "version": "3.10.4"
  },
  "orig_nbformat": 4,
  "vscode": {
   "interpreter": {
    "hash": "85eb23e62ab0fb7214e15f477e98d01c43cc873c8c744871ca1ca7fad5077131"
   }
  }
 },
 "nbformat": 4,
 "nbformat_minor": 2
}
