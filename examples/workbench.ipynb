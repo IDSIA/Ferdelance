{
 "cells": [
  {
   "cell_type": "code",
   "execution_count": 1,
   "metadata": {},
   "outputs": [],
   "source": [
    "from ferdelance.workbench.context import Context\n",
    "from ferdelance.shared.schemas.workbench import WorkbenchProject\n",
    "\n",
    "ctx: Context = Context(\"http://localhost:1456\")\n",
    "token: str = \"58981bcbab77ef4b8e01207134c38873e0936a9ab88cd76b243a2e2c85390b94\"\n",
    "project: WorkbenchProject = ctx.load(project_token=token)"
   ]
  },
  {
   "cell_type": "code",
   "execution_count": 2,
   "metadata": {},
   "outputs": [
    {
     "data": {
      "text/plain": [
       "WorkbenchProject(project_id='7869bf1c-90fd-4c96-a6ca-bf8769068c25', name='Project Zero', creation_time='2023-02-02 15:13:49', token='58981bcbab77ef4b8e01207134c38873e0936a9ab88cd76b243a2e2c85390b94', valid=True, active=True, datasources=[WorkbenchDataSource(component_id='520fa87f-bc63-4222-973a-830ed93ccfde', datasource_id='996d7efe-b56e-4c7f-aec6-df25316073b5', name='source1', n_features=3), WorkbenchDataSource(component_id='520fa87f-bc63-4222-973a-830ed93ccfde', datasource_id='4882b882-a180-4be3-804d-87a1267fd4a6', name='source2', n_features=5), WorkbenchDataSource(component_id='520fa87f-bc63-4222-973a-830ed93ccfde', datasource_id='6f8853b0-d920-4e6a-b945-10942e3e6e33', name='iris', n_features=5)])"
      ]
     },
     "execution_count": 2,
     "metadata": {},
     "output_type": "execute_result"
    }
   ],
   "source": [
    "project"
   ]
  },
  {
   "cell_type": "code",
   "execution_count": null,
   "metadata": {},
   "outputs": [],
   "source": [
    "ctx.describe_project(project=project)"
   ]
  },
  {
   "cell_type": "code",
   "execution_count": null,
   "metadata": {},
   "outputs": [],
   "source": []
  }
 ],
 "metadata": {
  "kernelspec": {
   "display_name": "ferdelance",
   "language": "python",
   "name": "python3"
  },
  "language_info": {
   "codemirror_mode": {
    "name": "ipython",
    "version": 3
   },
   "file_extension": ".py",
   "mimetype": "text/x-python",
   "name": "python",
   "nbconvert_exporter": "python",
   "pygments_lexer": "ipython3",
   "version": "3.10.4 (main, Mar 31 2022, 08:41:55) [GCC 7.5.0]"
  },
  "orig_nbformat": 4,
  "vscode": {
   "interpreter": {
    "hash": "85eb23e62ab0fb7214e15f477e98d01c43cc873c8c744871ca1ca7fad5077131"
   }
  }
 },
 "nbformat": 4,
 "nbformat_minor": 2
}
