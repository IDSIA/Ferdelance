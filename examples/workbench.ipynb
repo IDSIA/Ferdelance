{
 "cells": [
  {
   "cell_type": "code",
   "execution_count": 1,
   "metadata": {},
   "outputs": [],
   "source": [
    "from ferdelance.workbench.context import Context\n",
    "from ferdelance.shared.schemas import WorkbenchProject\n",
    "\n",
    "ctx: Context = Context(\"http://localhost:1456\")\n",
    "token: str = \"58981bcbab77ef4b8e01207134c38873e0936a9ab88cd76b243a2e2c85390b94\"\n",
    "project: WorkbenchProject = ctx.load_project(project_token=token)"
   ]
  },
  {
   "cell_type": "code",
   "execution_count": 2,
   "metadata": {},
   "outputs": [
    {
     "data": {
      "text/plain": [
       "WorkbenchProject(project_id='d12e3a5f-6272-4847-82c0-df29059f4b66', name='yolo', creation_time='2023-01-30 16:58:26', token='58981bcbab77ef4b8e01207134c38873e0936a9ab88cd76b243a2e2c85390b94', valid=True, active=True)"
      ]
     },
     "execution_count": 2,
     "metadata": {},
     "output_type": "execute_result"
    }
   ],
   "source": [
    "project"
   ]
  },
  {
   "cell_type": "code",
   "execution_count": 3,
   "metadata": {},
   "outputs": [
    {
     "ename": "HTTPError",
     "evalue": "404 Client Error: Not Found for url: http://localhost:1456/workbench/projects/yolo/descr",
     "output_type": "error",
     "traceback": [
      "\u001b[0;31m---------------------------------------------------------------------------\u001b[0m",
      "\u001b[0;31mHTTPError\u001b[0m                                 Traceback (most recent call last)",
      "Cell \u001b[0;32mIn [3], line 1\u001b[0m\n\u001b[0;32m----> 1\u001b[0m ctx\u001b[39m.\u001b[39;49mdescribe_project(project\u001b[39m=\u001b[39;49mproject)\n",
      "File \u001b[0;32m~/projects/FERDELANCE/ferdelance/ferdelance/workbench/context.py:342\u001b[0m, in \u001b[0;36mContext.describe_project\u001b[0;34m(self, project)\u001b[0m\n\u001b[1;32m    335\u001b[0m \u001b[39mdef\u001b[39;00m \u001b[39mdescribe_project\u001b[39m(\u001b[39mself\u001b[39m, project: WorkbenchProject) \u001b[39m-\u001b[39m\u001b[39m>\u001b[39m pd\u001b[39m.\u001b[39mDataFrame \u001b[39m|\u001b[39m pd\u001b[39m.\u001b[39mSeries:\n\u001b[1;32m    336\u001b[0m     res \u001b[39m=\u001b[39m requests\u001b[39m.\u001b[39mget(\n\u001b[1;32m    337\u001b[0m         \u001b[39mf\u001b[39m\u001b[39m\"\u001b[39m\u001b[39m{\u001b[39;00m\u001b[39mself\u001b[39m\u001b[39m.\u001b[39mserver\u001b[39m}\u001b[39;00m\u001b[39m/workbench/projects/\u001b[39m\u001b[39m{\u001b[39;00mproject\u001b[39m.\u001b[39mname\u001b[39m}\u001b[39;00m\u001b[39m/descr\u001b[39m\u001b[39m\"\u001b[39m,\n\u001b[1;32m    338\u001b[0m         headers\u001b[39m=\u001b[39m\u001b[39mself\u001b[39m\u001b[39m.\u001b[39mexc\u001b[39m.\u001b[39mheaders(),\n\u001b[1;32m    339\u001b[0m         data\u001b[39m=\u001b[39m\u001b[39mself\u001b[39m\u001b[39m.\u001b[39mexc\u001b[39m.\u001b[39mcreate_payload({\u001b[39m\"\u001b[39m\u001b[39mproject_token\u001b[39m\u001b[39m\"\u001b[39m: project\u001b[39m.\u001b[39mtoken}),\n\u001b[1;32m    340\u001b[0m     )\n\u001b[0;32m--> 342\u001b[0m     res\u001b[39m.\u001b[39;49mraise_for_status()\n\u001b[1;32m    344\u001b[0m     data \u001b[39m=\u001b[39m WorkbenchProjectDescription(\u001b[39m*\u001b[39m\u001b[39m*\u001b[39m\u001b[39mself\u001b[39m\u001b[39m.\u001b[39mexc\u001b[39m.\u001b[39mget_payload(res\u001b[39m.\u001b[39mcontent))\n\u001b[1;32m    346\u001b[0m     \u001b[39mprint\u001b[39m(pd\u001b[39m.\u001b[39mSeries(data))\n",
      "File \u001b[0;32m~/.conda/envs/ferdelance/lib/python3.10/site-packages/requests/models.py:1021\u001b[0m, in \u001b[0;36mResponse.raise_for_status\u001b[0;34m(self)\u001b[0m\n\u001b[1;32m   1016\u001b[0m     http_error_msg \u001b[39m=\u001b[39m (\n\u001b[1;32m   1017\u001b[0m         \u001b[39mf\u001b[39m\u001b[39m\"\u001b[39m\u001b[39m{\u001b[39;00m\u001b[39mself\u001b[39m\u001b[39m.\u001b[39mstatus_code\u001b[39m}\u001b[39;00m\u001b[39m Server Error: \u001b[39m\u001b[39m{\u001b[39;00mreason\u001b[39m}\u001b[39;00m\u001b[39m for url: \u001b[39m\u001b[39m{\u001b[39;00m\u001b[39mself\u001b[39m\u001b[39m.\u001b[39murl\u001b[39m}\u001b[39;00m\u001b[39m\"\u001b[39m\n\u001b[1;32m   1018\u001b[0m     )\n\u001b[1;32m   1020\u001b[0m \u001b[39mif\u001b[39;00m http_error_msg:\n\u001b[0;32m-> 1021\u001b[0m     \u001b[39mraise\u001b[39;00m HTTPError(http_error_msg, response\u001b[39m=\u001b[39m\u001b[39mself\u001b[39m)\n",
      "\u001b[0;31mHTTPError\u001b[0m: 404 Client Error: Not Found for url: http://localhost:1456/workbench/projects/yolo/descr"
     ]
    }
   ],
   "source": [
    "ctx.describe_project(project=project)"
   ]
  },
  {
   "cell_type": "code",
   "execution_count": null,
   "metadata": {},
   "outputs": [],
   "source": []
  }
 ],
 "metadata": {
  "kernelspec": {
   "display_name": "ferdelance",
   "language": "python",
   "name": "python3"
  },
  "language_info": {
   "codemirror_mode": {
    "name": "ipython",
    "version": 3
   },
   "file_extension": ".py",
   "mimetype": "text/x-python",
   "name": "python",
   "nbconvert_exporter": "python",
   "pygments_lexer": "ipython3",
   "version": "3.10.4"
  },
  "orig_nbformat": 4,
  "vscode": {
   "interpreter": {
    "hash": "85eb23e62ab0fb7214e15f477e98d01c43cc873c8c744871ca1ca7fad5077131"
   }
  }
 },
 "nbformat": 4,
 "nbformat_minor": 2
}
